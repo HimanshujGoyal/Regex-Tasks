{
 "cells": [
  {
   "cell_type": "markdown",
   "metadata": {},
   "source": [
    "### Q1. Write a function to return nth term of Fibonacci sequence."
   ]
  },
  {
   "cell_type": "code",
   "execution_count": 1,
   "metadata": {},
   "outputs": [
    {
     "name": "stdout",
     "output_type": "stream",
     "text": [
      "Enter the number: 8\n",
      "The 8th term of Fibonacci sequence is 13\n"
     ]
    }
   ],
   "source": [
    "def fibonacci(number):\n",
    "    x=0\n",
    "    y = 1\n",
    "    if number==1:\n",
    "        return x\n",
    "    elif number==2:\n",
    "        return y\n",
    "    else:\n",
    "        for i in range(3,number+1):    \n",
    "            z= x+y\n",
    "            x=y\n",
    "            y=z\n",
    "        return z    \n",
    "x= int(input('Enter the number: '))           \n",
    "output = fibonacci(x)\n",
    "print(f'The {x}th term of Fibonacci sequence is {output}')\n",
    "    "
   ]
  },
  {
   "cell_type": "markdown",
   "metadata": {},
   "source": [
    "### Q2. Write a function to find out GCD of two numbers using EUCLID'S algorithm."
   ]
  },
  {
   "cell_type": "code",
   "execution_count": 2,
   "metadata": {},
   "outputs": [
    {
     "name": "stdout",
     "output_type": "stream",
     "text": [
      "Enter the 1st Number: 252\n",
      "Enter the 2nd Number: 105\n",
      "The GCD is : 21\n"
     ]
    }
   ],
   "source": [
    "def GCD(x,y):\n",
    "    if x ==0:\n",
    "        return y\n",
    "        \n",
    "    elif y ==0:\n",
    "        return x\n",
    "        \n",
    "    else:\n",
    "        while True:\n",
    "            if x>y:\n",
    "                x= x-y\n",
    "            elif(x<y):\n",
    "                y = y-x\n",
    "            else:\n",
    "                break\n",
    "        return x\n",
    "m = int(input('Enter the 1st Number: '))\n",
    "n = int(input('Enter the 2nd Number: '))\n",
    "\n",
    "output = GCD(m,n)\n",
    "print(\"The GCD is :\",output)"
   ]
  },
  {
   "cell_type": "markdown",
   "metadata": {},
   "source": [
    "### Q3. Write a function to find LCM of two number in most optimizers way."
   ]
  },
  {
   "cell_type": "code",
   "execution_count": 3,
   "metadata": {},
   "outputs": [
    {
     "name": "stdout",
     "output_type": "stream",
     "text": [
      "The L.C.M. is 72\n"
     ]
    }
   ],
   "source": [
    "def compute_gcd(x, y):\n",
    "    while(y):\n",
    "        x, y = y, x % y\n",
    "    return x\n",
    "\n",
    "def compute_lcm(x, y):\n",
    "    lcm = (x*y)//compute_gcd(x,y)\n",
    "    return lcm\n",
    "\n",
    "num1 = 24\n",
    "num2 = 18 \n",
    "\n",
    "print(\"The L.C.M. is\", compute_lcm(num1, num2))"
   ]
  },
  {
   "cell_type": "code",
   "execution_count": null,
   "metadata": {},
   "outputs": [],
   "source": []
  }
 ],
 "metadata": {
  "kernelspec": {
   "display_name": "Python 3",
   "language": "python",
   "name": "python3"
  },
  "language_info": {
   "codemirror_mode": {
    "name": "ipython",
    "version": 3
   },
   "file_extension": ".py",
   "mimetype": "text/x-python",
   "name": "python",
   "nbconvert_exporter": "python",
   "pygments_lexer": "ipython3",
   "version": "3.8.5"
  }
 },
 "nbformat": 4,
 "nbformat_minor": 4
}
