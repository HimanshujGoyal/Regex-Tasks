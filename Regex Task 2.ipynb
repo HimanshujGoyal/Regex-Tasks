{
 "cells": [
  {
   "cell_type": "markdown",
   "metadata": {},
   "source": [
    "### Q1. Write a lambda expression to extract first word of a string."
   ]
  },
  {
   "cell_type": "code",
   "execution_count": 1,
   "metadata": {},
   "outputs": [
    {
     "name": "stdout",
     "output_type": "stream",
     "text": [
      "Enter the string - Himanshu\n",
      "H\n"
     ]
    }
   ],
   "source": [
    "x = input('Enter the string - ')\n",
    "y = lambda a: a[0]\n",
    "print(y(x))"
   ]
  },
  {
   "cell_type": "markdown",
   "metadata": {},
   "source": [
    "### Q2. Write a function to extract first word of s string (with many words separated by space)."
   ]
  },
  {
   "cell_type": "code",
   "execution_count": 2,
   "metadata": {},
   "outputs": [
    {
     "name": "stdout",
     "output_type": "stream",
     "text": [
      "Enter the sentence - Himanshu Goyal\n",
      "Himanshu\n"
     ]
    }
   ],
   "source": [
    "def first_word(sentence):\n",
    "    return sentence.split()[0]\n",
    "\n",
    "x = input('Enter the sentence - ')\n",
    "y = first_word(x)\n",
    "print(y)"
   ]
  },
  {
   "cell_type": "markdown",
   "metadata": {},
   "source": [
    "### Q3. Extract the first word from every string from a list of strings by using map function."
   ]
  },
  {
   "cell_type": "code",
   "execution_count": 3,
   "metadata": {},
   "outputs": [
    {
     "name": "stdout",
     "output_type": "stream",
     "text": [
      "['H', 'A', 'S', 'K']\n"
     ]
    }
   ],
   "source": [
    "def first_word(word):\n",
    "    return word[0]\n",
    "\n",
    "x = ['Himanshu','Akash','Sahil','Karan']\n",
    "result = map(first_word,x)\n",
    "print(list(result))"
   ]
  },
  {
   "cell_type": "markdown",
   "metadata": {},
   "source": [
    "### Q4. Write a function to return a list of prime factors of a given number."
   ]
  },
  {
   "cell_type": "code",
   "execution_count": 4,
   "metadata": {},
   "outputs": [
    {
     "name": "stdout",
     "output_type": "stream",
     "text": [
      "[2, 2, 2, 5, 5]\n"
     ]
    }
   ],
   "source": [
    "import math\n",
    "prime=[]\n",
    "def primeFactors(n):\n",
    "    while n % 2 == 0:\n",
    "        prime.append(2),\n",
    "        n = n / 2\n",
    "    \n",
    "    for i in range(3,int(math.sqrt(n))+1,2):\n",
    "        while n % i== 0:\n",
    "            prime.append(i),\n",
    "            n = n / i\n",
    "    if n > 2:\n",
    "        prime.append(int(n))\n",
    "\n",
    "n = 200\n",
    "primeFactors(n)\n",
    "print(prime)"
   ]
  },
  {
   "cell_type": "markdown",
   "metadata": {},
   "source": [
    "### Q5. Write a function that finds 2nd largest among 4 numbers (Repetitions are allowed,without sorting)."
   ]
  },
  {
   "cell_type": "code",
   "execution_count": 5,
   "metadata": {},
   "outputs": [
    {
     "name": "stdout",
     "output_type": "stream",
     "text": [
      "12\n"
     ]
    }
   ],
   "source": [
    "def second_max(n):\n",
    "    max_num = max(n[0],n[1])\n",
    "    second_max_num = min(n[0],n[1])\n",
    "    \n",
    "    for i in range(2,len(n)):\n",
    "        if n[i]>max_num:\n",
    "            second_max_num = max_num\n",
    "            max_num = n[i]\n",
    "        elif n[i]>second_max_num and n[i]!=max_num:\n",
    "            second_max_num = n[i]\n",
    "    return second_max_num      \n",
    "            \n",
    "n=[2,4,3,8,7,15,12]     \n",
    "result= second_max(n)\n",
    "print(result)"
   ]
  },
  {
   "cell_type": "code",
   "execution_count": null,
   "metadata": {},
   "outputs": [],
   "source": []
  }
 ],
 "metadata": {
  "kernelspec": {
   "display_name": "Python 3",
   "language": "python",
   "name": "python3"
  },
  "language_info": {
   "codemirror_mode": {
    "name": "ipython",
    "version": 3
   },
   "file_extension": ".py",
   "mimetype": "text/x-python",
   "name": "python",
   "nbconvert_exporter": "python",
   "pygments_lexer": "ipython3",
   "version": "3.8.5"
  }
 },
 "nbformat": 4,
 "nbformat_minor": 4
}
