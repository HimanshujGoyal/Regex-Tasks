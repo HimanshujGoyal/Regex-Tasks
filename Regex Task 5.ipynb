{
 "cells": [
  {
   "cell_type": "markdown",
   "metadata": {},
   "source": [
    "### Q1. Given a list of integers, write a function to return the sum of all prime numbers in that list."
   ]
  },
  {
   "cell_type": "code",
   "execution_count": 1,
   "metadata": {},
   "outputs": [
    {
     "name": "stdout",
     "output_type": "stream",
     "text": [
      "17\n"
     ]
    }
   ],
   "source": [
    "import math\n",
    "def isPrime(num):\n",
    "    if (num == 0 or num==1 ):\n",
    "        return False\n",
    "    \n",
    "    for i in range(2, math.floor(math.sqrt(num)) + 1):\n",
    "        if (num%i == 0):\n",
    "            return False\n",
    "    return True\n",
    "    \n",
    "def arr_isPrime(nums):\n",
    "    sum = 0\n",
    "    for i in nums:\n",
    "        if (isPrime(i)):\n",
    "            sum += i\n",
    "            \n",
    "    return sum\n",
    " \n",
    "nums = [1,2,3,4,5,6,7,8,9,10]\n",
    "print(arr_isPrime(nums))"
   ]
  },
  {
   "cell_type": "markdown",
   "metadata": {},
   "source": [
    "### Q2. Given a list of integers, write a function to check whether the list is strictly increasing or not."
   ]
  },
  {
   "cell_type": "code",
   "execution_count": 2,
   "metadata": {},
   "outputs": [
    {
     "name": "stdout",
     "output_type": "stream",
     "text": [
      "True\n"
     ]
    }
   ],
   "source": [
    "def isIncresing(nums):\n",
    "    for i in range(len(nums)-1):\n",
    "        if (nums[i]>=nums[i+1]):\n",
    "            return False\n",
    "    return True\n",
    "\n",
    "        \n",
    "nums = [1,2,3,4,5,6,7,8,9,10]\n",
    "\n",
    "print(isIncresing(nums))"
   ]
  },
  {
   "cell_type": "markdown",
   "metadata": {},
   "source": [
    "### Q3. Write a function to check whether a given list is expanding or not (the difference between adjacent elements should keep on increasing)."
   ]
  },
  {
   "cell_type": "code",
   "execution_count": 3,
   "metadata": {},
   "outputs": [
    {
     "name": "stdout",
     "output_type": "stream",
     "text": [
      "True\n"
     ]
    }
   ],
   "source": [
    "def isIncresing(nums):\n",
    "    for i in range(len(nums)-2):\n",
    "        if ((nums[i+1] - nums[i])>=(nums[i+2]-nums[i+1])):\n",
    "            return False\n",
    "    return True\n",
    "\n",
    "        \n",
    "nums = [1,2,4,7,11,16]\n",
    "\n",
    "print(isIncresing(nums))"
   ]
  },
  {
   "cell_type": "markdown",
   "metadata": {},
   "source": [
    "### Q4. Write a function to calculate all permutations of a given string. (Without using itertools)"
   ]
  },
  {
   "cell_type": "code",
   "execution_count": 4,
   "metadata": {},
   "outputs": [
    {
     "name": "stdout",
     "output_type": "stream",
     "text": [
      "40320\n"
     ]
    }
   ],
   "source": [
    "name = 'Himanshu'\n",
    "def factorial(num):\n",
    "    return 1 if num==0 else num*factorial(num-1)\n",
    "\n",
    "result = factorial(len(name))\n",
    "print(result)"
   ]
  }
 ],
 "metadata": {
  "kernelspec": {
   "display_name": "Python 3",
   "language": "python",
   "name": "python3"
  },
  "language_info": {
   "codemirror_mode": {
    "name": "ipython",
    "version": 3
   },
   "file_extension": ".py",
   "mimetype": "text/x-python",
   "name": "python",
   "nbconvert_exporter": "python",
   "pygments_lexer": "ipython3",
   "version": "3.8.5"
  }
 },
 "nbformat": 4,
 "nbformat_minor": 4
}
